{
 "cells": [
  {
   "cell_type": "code",
   "execution_count": 2,
   "id": "7f06b782-33b2-42e2-bbac-d59cdc2dabce",
   "metadata": {},
   "outputs": [],
   "source": [
    "import pandas as pd"
   ]
  },
  {
   "cell_type": "code",
   "execution_count": 3,
   "id": "336269b3-b43e-4b43-a773-62d1421edf20",
   "metadata": {},
   "outputs": [],
   "source": [
    "df = pd.read_csv(\"Lottery_Mega_Millions_Winning_Numbers__Beginning_2002.csv\")\n"
   ]
  },
  {
   "cell_type": "code",
   "execution_count": 4,
   "id": "b18d63ee-41d8-4ab2-addf-ddec06ab29b7",
   "metadata": {},
   "outputs": [
    {
     "name": "stdout",
     "output_type": "stream",
     "text": [
      "First few rows:\n",
      "    Draw Date Winning Numbers  Mega Ball  Multiplier\n",
      "0  09/25/2020  20 36 37 48 67         16         2.0\n",
      "1  09/29/2020  14 39 43 44 67         19         3.0\n",
      "2  10/02/2020  09 38 47 49 68         25         2.0\n",
      "3  10/06/2020  15 16 18 39 59         17         3.0\n",
      "4  10/09/2020  05 11 25 27 64         13         2.0\n",
      "\n",
      "Columns in the CSV:\n",
      "Index(['Draw Date', 'Winning Numbers', 'Mega Ball', 'Multiplier'], dtype='object')\n"
     ]
    }
   ],
   "source": [
    "print(\"First few rows:\")\n",
    "print(df.head())\n",
    "print(\"\\nColumns in the CSV:\")\n",
    "print(df.columns)"
   ]
  },
  {
   "cell_type": "code",
   "execution_count": 7,
   "id": "93c59f02-7c8e-4116-83b6-9d1ca0774023",
   "metadata": {},
   "outputs": [
    {
     "name": "stdout",
     "output_type": "stream",
     "text": [
      "Frequency of Winning Numbers by Month:\n",
      "Month                 April  August  December  February  January  July  June  \\\n",
      "Winning Numbers List                                                           \n",
      "1                      17.0    16.0      16.0      17.0     12.0  20.0  17.0   \n",
      "2                      16.0    24.0      15.0      18.0     17.0  21.0  14.0   \n",
      "3                      12.0    15.0      20.0      18.0     23.0  15.0  18.0   \n",
      "4                      10.0    16.0      18.0      19.0     23.0  15.0  17.0   \n",
      "5                      16.0    19.0      13.0      13.0     14.0  16.0  16.0   \n",
      "...                     ...     ...       ...       ...      ...   ...   ...   \n",
      "71                      3.0     4.0       0.0       5.0      0.0   2.0   1.0   \n",
      "72                      0.0     2.0       1.0       1.0      2.0   3.0   3.0   \n",
      "73                      2.0     5.0       4.0       3.0      0.0   4.0   0.0   \n",
      "74                      3.0     3.0       1.0       2.0      2.0   4.0   3.0   \n",
      "75                      1.0     2.0       0.0       5.0      3.0   1.0   2.0   \n",
      "\n",
      "Month                 March   May  November  October  September  \n",
      "Winning Numbers List                                             \n",
      "1                      11.0  11.0       9.0      7.0       18.0  \n",
      "2                      16.0  20.0      12.0     15.0       19.0  \n",
      "3                      15.0  16.0      19.0     17.0       16.0  \n",
      "4                      19.0  18.0       8.0     15.0       14.0  \n",
      "5                       4.0  21.0      23.0     13.0       16.0  \n",
      "...                     ...   ...       ...      ...        ...  \n",
      "71                      1.0   1.0       3.0      1.0        1.0  \n",
      "72                      0.0   3.0       1.0      0.0        4.0  \n",
      "73                      8.0   1.0       0.0      1.0        3.0  \n",
      "74                      0.0   4.0       4.0      3.0        1.0  \n",
      "75                      2.0   2.0       4.0      1.0        2.0  \n",
      "\n",
      "[75 rows x 12 columns]\n"
     ]
    }
   ],
   "source": [
    "# Convert Draw Date to datetime and extract the month name\n",
    "df[\"Draw Date\"] = pd.to_datetime(df[\"Draw Date\"], format=\"%m/%d/%Y\")\n",
    "df[\"Month\"] = df[\"Draw Date\"].dt.month_name()\n",
    "\n",
    "# Convert Winning Numbers from a space-separated string to a list of integers\n",
    "df[\"Winning Numbers List\"] = df[\"Winning Numbers\"].apply(lambda x: list(map(int, x.split())))\n",
    "\n",
    "# Explode the list so that each winning number gets its own row\n",
    "df_exploded = df.explode(\"Winning Numbers List\")\n",
    "\n",
    "# Group by Month and Winning Number and count occurrences\n",
    "freq_by_month = df_exploded.groupby([\"Month\", \"Winning Numbers List\"]).size().reset_index(name=\"Count\")\n",
    "\n",
    "# Pivot the table so that each row is a winning number and columns are months\n",
    "pivot = freq_by_month.pivot(index=\"Winning Numbers List\", columns=\"Month\", values=\"Count\").fillna(0)\n",
    "\n",
    "print(\"Frequency of Winning Numbers by Month:\")\n",
    "print(pivot)"
   ]
  },
  {
   "cell_type": "code",
   "execution_count": 8,
   "id": "ea530425-8c8e-41c3-82dd-2a1ad7f689c1",
   "metadata": {},
   "outputs": [
    {
     "name": "stdout",
     "output_type": "stream",
     "text": [
      "Total draws with multiplier info: 1467\n",
      "Highest multiplier observed: 5.0\n",
      "\n",
      "Frequency of each multiplier:\n",
      "Multiplier\n",
      "2.0    369\n",
      "3.0    492\n",
      "4.0    409\n",
      "5.0    197\n",
      "Name: count, dtype: int64\n"
     ]
    }
   ],
   "source": [
    "total_draws = df[\"Multiplier\"].count()\n",
    "max_multiplier = df[\"Multiplier\"].max()\n",
    "multiplier_counts = df[\"Multiplier\"].value_counts().sort_index()\n",
    "\n",
    "print(\"Total draws with multiplier info:\", total_draws)\n",
    "print(\"Highest multiplier observed:\", max_multiplier)\n",
    "print(\"\\nFrequency of each multiplier:\")\n",
    "print(multiplier_counts)"
   ]
  },
  {
   "cell_type": "code",
   "execution_count": null,
   "id": "379b40cd-f99f-4f4c-afb8-7af02b731334",
   "metadata": {},
   "outputs": [],
   "source": []
  }
 ],
 "metadata": {
  "kernelspec": {
   "display_name": "Python 3 (ipykernel)",
   "language": "python",
   "name": "python3"
  },
  "language_info": {
   "codemirror_mode": {
    "name": "ipython",
    "version": 3
   },
   "file_extension": ".py",
   "mimetype": "text/x-python",
   "name": "python",
   "nbconvert_exporter": "python",
   "pygments_lexer": "ipython3",
   "version": "3.13.2"
  }
 },
 "nbformat": 4,
 "nbformat_minor": 5
}
